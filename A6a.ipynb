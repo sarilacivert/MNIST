{
  "nbformat": 4,
  "nbformat_minor": 0,
  "metadata": {
    "colab": {
      "name": "A6a.ipynb",
      "provenance": [],
      "collapsed_sections": []
    },
    "kernelspec": {
      "name": "python3",
      "display_name": "Python 3"
    },
    "language_info": {
      "name": "python"
    }
  },
  "cells": [
    {
      "cell_type": "markdown",
      "metadata": {
        "id": "p8n7vFjFfuTN"
      },
      "source": [
        ""
      ]
    },
    {
      "cell_type": "markdown",
      "metadata": {
        "id": "wTbdkxv6gCFZ"
      },
      "source": [
        "# Assignment_6_a "
      ]
    },
    {
      "cell_type": "code",
      "metadata": {
        "id": "YGA2Djh5gCko"
      },
      "source": [
        "from __future__ import division, print_function, unicode_literals\n",
        "import numpy as np\n",
        "import os\n",
        "\n",
        "import logging\n",
        "logging.getLogger('tensorflow').disabled = True\n",
        "\n",
        "def reset_graph(seed=42):\n",
        "    tf.reset_default_graph()\n",
        "    tf.set_random_seed(seed)\n",
        "    np.random.seed(seed)\n",
        "\n",
        "%matplotlib inline\n",
        "import matplotlib\n",
        "import matplotlib.pyplot as plt\n",
        "plt.rcParams['axes.labelsize'] = 14\n",
        "plt.rcParams['xtick.labelsize'] = 12\n",
        "plt.rcParams['ytick.labelsize'] = 12\n",
        "\n",
        "PROJECT_ROOT_DIR = \".\"\n",
        "CHAPTER_ID = \"ann\"\n",
        "\n",
        "def save_fig(fig_id, tight_layout=True):\n",
        "    path = os.path.join(PROJECT_ROOT_DIR, \"images\", CHAPTER_ID, fig_id + \".png\")\n",
        "    print(\"Saving figure\", fig_id)\n",
        "    if tight_layout:\n",
        "        plt.tight_layout()\n",
        "    plt.savefig(path, format='png', dpi=300)"
      ],
      "execution_count": 2,
      "outputs": []
    },
    {
      "cell_type": "code",
      "metadata": {
        "id": "UWJWPedggL_r"
      },
      "source": [
        "import tensorflow as tf"
      ],
      "execution_count": 3,
      "outputs": []
    },
    {
      "cell_type": "code",
      "metadata": {
        "id": "xEXRUxvfgPjG",
        "colab": {
          "base_uri": "https://localhost:8080/"
        },
        "outputId": "84fb6231-dc41-4a14-836d-650d2456bfba"
      },
      "source": [
        "(X_train, y_train), (X_test, y_test) = tf.keras.datasets.mnist.load_data()\n",
        "X_train = X_train.astype(np.float32).reshape(-1, 28*28) / 255.0\n",
        "X_test = X_test.astype(np.float32).reshape(-1, 28*28) / 255.0\n",
        "y_train = y_train.astype(np.int32)\n",
        "y_test = y_test.astype(np.int32)"
      ],
      "execution_count": 4,
      "outputs": [
        {
          "output_type": "stream",
          "text": [
            "Downloading data from https://storage.googleapis.com/tensorflow/tf-keras-datasets/mnist.npz\n",
            "11493376/11490434 [==============================] - 0s 0us/step\n"
          ],
          "name": "stdout"
        }
      ]
    },
    {
      "cell_type": "code",
      "metadata": {
        "colab": {
          "base_uri": "https://localhost:8080/"
        },
        "id": "F_30z6R4gSXc",
        "outputId": "8e61d6c7-9a28-4649-e876-f0277228fd26"
      },
      "source": [
        "print (X_train.shape)\n",
        "print (X_test.shape)"
      ],
      "execution_count": 5,
      "outputs": [
        {
          "output_type": "stream",
          "text": [
            "(60000, 784)\n",
            "(10000, 784)\n"
          ],
          "name": "stdout"
        }
      ]
    },
    {
      "cell_type": "code",
      "metadata": {
        "colab": {
          "base_uri": "https://localhost:8080/",
          "height": 223
        },
        "id": "HNR1h3kAgZza",
        "outputId": "eecb294d-2917-4889-a730-a651671c9704"
      },
      "source": [
        "print('Training data shape', X_train.shape)\n",
        "_, (ax1, ax2) = plt.subplots(1, 2)\n",
        "ax1.imshow(X_train[0].reshape(28, 28), cmap=plt.cm.Blues);\n",
        "ax2.imshow(X_train[1].reshape(28, 28), cmap=plt.cm.Blues);"
      ],
      "execution_count": 6,
      "outputs": [
        {
          "output_type": "stream",
          "text": [
            "Training data shape (60000, 784)\n"
          ],
          "name": "stdout"
        },
        {
          "output_type": "display_data",
          "data": {
            "image/png": "[encoded data removed]",
            "text/plain": [
              "<Figure size 432x288 with 2 Axes>"
            ]
          },
          "metadata": {
            "tags": [],
            "needs_background": "light"
          }
        }
      ]
    },
    {
      "cell_type": "markdown",
      "metadata": {
        "id": "CKB0sEDQg4mk"
      },
      "source": [
        "### First model with 2 layers and 10 Neurons for each layer"
      ]
    },
    {
      "cell_type": "code",
      "metadata": {
        "colab": {
          "base_uri": "https://localhost:8080/"
        },
        "id": "YSDBl-gig_CH",
        "outputId": "b85476eb-7abf-4e60-ba5b-2fc004c53dc9"
      },
      "source": [
        "%%time\n",
        "feature_cols = [tf.feature_column.numeric_column(\"X\", shape=[28 * 28])]\n",
        "\n",
        "dnn_clf_2a = tf.estimator.DNNClassifier(hidden_units=[10,10], n_classes=10,feature_columns=feature_cols)\n",
        "\n",
        "\n",
        "#input_fn_2a = tf.estimator.inputs.numpy_input_fn(x={\"X\": X_train}, y=y_train, num_epochs=50, batch_size=50, shuffle=True)\n",
        "input_fn_2a = tf.compat.v1.estimator.inputs.numpy_input_fn(x={\"X\": X_train}, y=y_train, num_epochs=50, batch_size=50, shuffle=True)\n",
        "\n",
        "dnn_clf_2a.train(input_fn=input_fn_2a)"
      ],
      "execution_count": 7,
      "outputs": [
        {
          "output_type": "stream",
          "text": [
            "CPU times: user 2min 20s, sys: 9.33 s, total: 2min 29s\n",
            "Wall time: 1min 38s\n"
          ],
          "name": "stdout"
        }
      ]
    },
    {
      "cell_type": "code",
      "metadata": {
        "id": "ocMoDZqvhFww",
        "colab": {
          "base_uri": "https://localhost:8080/"
        },
        "outputId": "14c5f4a4-cef0-47a3-943c-571454630c7f"
      },
      "source": [
        "train_2a_input_fn = tf.compat.v1.estimator.inputs.numpy_input_fn(x={\"X\": X_train}, y=y_train, shuffle=False)\n",
        "eval_results_train_2a = dnn_clf_2a.evaluate(input_fn=train_2a_input_fn)\n",
        "eval_results_train_2a"
      ],
      "execution_count": 8,
      "outputs": [
        {
          "output_type": "execute_result",
          "data": {
            "text/plain": [
              "{'accuracy': 0.86911666,\n",
              " 'average_loss': 0.48962054,\n",
              " 'global_step': 60000,\n",
              " 'loss': 0.48963997}"
            ]
          },
          "metadata": {
            "tags": []
          },
          "execution_count": 8
        }
      ]
    },
    {
      "cell_type": "code",
      "metadata": {
        "colab": {
          "base_uri": "https://localhost:8080/"
        },
        "id": "36ZQid2KXLL4",
        "outputId": "68b2e54e-dd04-4bba-d4ba-79fffe627c64"
      },
      "source": [
        "test_2a_input_fn = tf.compat.v1.estimator.inputs.numpy_input_fn(x={\"X\": X_test}, y=y_test, shuffle=False)\n",
        "eval_results_test_2a = dnn_clf_2a.evaluate(input_fn=test_2a_input_fn)\n",
        "eval_results_test_2a"
      ],
      "execution_count": 9,
      "outputs": [
        {
          "output_type": "execute_result",
          "data": {
            "text/plain": [
              "{'accuracy': 0.872,\n",
              " 'average_loss': 0.47321466,\n",
              " 'global_step': 60000,\n",
              " 'loss': 0.4723797}"
            ]
          },
          "metadata": {
            "tags": []
          },
          "execution_count": 9
        }
      ]
    },
    {
      "cell_type": "markdown",
      "metadata": {
        "id": "kZ2JiCjXZkbK"
      },
      "source": [
        "## The first model took 98 seconds for build time and 87 seconds for both train and test accuracy.  "
      ]
    },
    {
      "cell_type": "markdown",
      "metadata": {
        "id": "xDL-Af1Oa3nH"
      },
      "source": [
        "# Assignment_6_b"
      ]
    },
    {
      "cell_type": "markdown",
      "metadata": {
        "id": "S6VPo6XNlULa"
      },
      "source": [
        "# Second model with 2 layers and many Neurons for each layer"
      ]
    },
    {
      "cell_type": "code",
      "metadata": {
        "colab": {
          "base_uri": "https://localhost:8080/"
        },
        "id": "feK873UOlVDu",
        "outputId": "49a858f1-dff0-4ea6-bd7a-6b1c8081a53c"
      },
      "source": [
        "%%time\n",
        "\n",
        "feature_cols = [tf.feature_column.numeric_column(\"X\", shape=[28 * 28])]\n",
        "\n",
        "dnn_clf_2b = tf.compat.v1.estimator.DNNClassifier(hidden_units=[150,50], n_classes=10,feature_columns=feature_cols)\n",
        "\n",
        "input_fn_2b = tf.compat.v1.estimator.inputs.numpy_input_fn( x={\"X\": X_train}, y=y_train, num_epochs=50, batch_size=50, shuffle=True)\n",
        "\n",
        "dnn_clf_2b.train(input_fn=input_fn_2b)\n",
        "\n"
      ],
      "execution_count": 12,
      "outputs": [
        {
          "output_type": "stream",
          "text": [
            "CPU times: user 3min 51s, sys: 13.8 s, total: 4min 5s\n",
            "Wall time: 2min 38s\n"
          ],
          "name": "stdout"
        }
      ]
    },
    {
      "cell_type": "code",
      "metadata": {
        "colab": {
          "base_uri": "https://localhost:8080/"
        },
        "id": "15NwoG-Rl2w7",
        "outputId": "e9ad6c58-c980-4954-a39b-4dad656d2c27"
      },
      "source": [
        "train_2b_input_fn = tf.compat.v1.estimator.inputs.numpy_input_fn(x={\"X\": X_train}, y=y_train, shuffle=False)\n",
        "eval_results_train_2b = dnn_clf_2a.evaluate(input_fn=train_2b_input_fn)\n",
        "eval_results_train_2b"
      ],
      "execution_count": 17,
      "outputs": [
        {
          "output_type": "execute_result",
          "data": {
            "text/plain": [
              "{'accuracy': 0.86911666,\n",
              " 'average_loss': 0.48962054,\n",
              " 'global_step': 60000,\n",
              " 'loss': 0.48963997}"
            ]
          },
          "metadata": {
            "tags": []
          },
          "execution_count": 17
        }
      ]
    },
    {
      "cell_type": "code",
      "metadata": {
        "colab": {
          "base_uri": "https://localhost:8080/"
        },
        "id": "nCbyYfOSodqw",
        "outputId": "2970aa46-eafa-4165-b3ba-5d44ea6395a2"
      },
      "source": [
        "test_2b_input_fn = tf.compat.v1.estimator.inputs.numpy_input_fn(x={\"X\": X_test}, y=y_test, shuffle=False)\n",
        "eval_results_test_2b = dnn_clf_2b.evaluate(input_fn=test_2a_input_fn)\n",
        "eval_results_test_2b\n"
      ],
      "execution_count": 18,
      "outputs": [
        {
          "output_type": "execute_result",
          "data": {
            "text/plain": [
              "{'accuracy': 0.9772,\n",
              " 'average_loss': 0.11653095,\n",
              " 'global_step': 60000,\n",
              " 'loss': 14.750752}"
            ]
          },
          "metadata": {
            "tags": []
          },
          "execution_count": 18
        }
      ]
    },
    {
      "cell_type": "code",
      "metadata": {
        "id": "HxpMUFLXo1ci"
      },
      "source": [
        ""
      ],
      "execution_count": null,
      "outputs": []
    },
    {
      "cell_type": "markdown",
      "metadata": {
        "id": "77i4f-oNo9Fp"
      },
      "source": [
        "## The Second model took 158 seconds for build time and 87 for training accuracy and 98 seconds for testing accuracy.  "
      ]
    },
    {
      "cell_type": "markdown",
      "metadata": {
        "id": "wxR2V0lAq8Yj"
      },
      "source": [
        "# Assignment 6c"
      ]
    },
    {
      "cell_type": "markdown",
      "metadata": {
        "id": "rPFy9cLbrC4k"
      },
      "source": [
        "# The Third model with 5 layers with 20 neurons for each layer"
      ]
    },
    {
      "cell_type": "code",
      "metadata": {
        "colab": {
          "base_uri": "https://localhost:8080/"
        },
        "id": "CRJjHao6qdV5",
        "outputId": "ce016033-f451-49ba-e261-4bc92fdce380"
      },
      "source": [
        "%%time\n",
        "\n",
        "feature_cols = [tf.feature_column.numeric_column(\"X\", shape=[28 * 28])]\n",
        "\n",
        "dnn_clf_5a = tf.compat.v1.estimator.DNNClassifier(hidden_units=[20,20,20,20,20], n_classes=10,feature_columns=feature_cols)\n",
        "\n",
        "input_fn_5a = tf.compat.v1.estimator.inputs.numpy_input_fn(x={\"X\": X_train}, y=y_train, num_epochs=50, batch_size=50, shuffle=True)\n",
        "\n",
        "dnn_clf_5a.train(input_fn=input_fn_5a)"
      ],
      "execution_count": 21,
      "outputs": [
        {
          "output_type": "stream",
          "text": [
            "CPU times: user 2min 35s, sys: 8.14 s, total: 2min 43s\n",
            "Wall time: 1min 44s\n"
          ],
          "name": "stdout"
        }
      ]
    },
    {
      "cell_type": "code",
      "metadata": {
        "colab": {
          "base_uri": "https://localhost:8080/"
        },
        "id": "bpqv97dDt6JB",
        "outputId": "6fe22be1-100d-49bb-d088-980ae5396991"
      },
      "source": [
        "train_5a_input_fn = tf.compat.v1.estimator.inputs.numpy_input_fn(x={\"X\": X_train}, y=y_train, shuffle=False)\n",
        "eval_results_train_5a = dnn_clf_5a.evaluate(input_fn=train_5a_input_fn)\n",
        "eval_results_train_5a"
      ],
      "execution_count": 22,
      "outputs": [
        {
          "output_type": "execute_result",
          "data": {
            "text/plain": [
              "{'accuracy': 0.9784167,\n",
              " 'average_loss': 0.07402981,\n",
              " 'global_step': 60000,\n",
              " 'loss': 9.470764}"
            ]
          },
          "metadata": {
            "tags": []
          },
          "execution_count": 22
        }
      ]
    },
    {
      "cell_type": "code",
      "metadata": {
        "colab": {
          "base_uri": "https://localhost:8080/"
        },
        "id": "SOoiHobBvTxV",
        "outputId": "ca1ef4e5-9a16-4a19-ac65-2d6c34080f6b"
      },
      "source": [
        "test_5a_input_fn = tf.compat.v1.estimator.inputs.numpy_input_fn(x={\"X\": X_test}, y=y_test, shuffle=False)\n",
        "eval_results_test_5a = dnn_clf_5a.evaluate(input_fn=test_5a_input_fn)\n",
        "eval_results_test_5a"
      ],
      "execution_count": 23,
      "outputs": [
        {
          "output_type": "execute_result",
          "data": {
            "text/plain": [
              "{'accuracy': 0.9546,\n",
              " 'average_loss': 0.18325506,\n",
              " 'global_step': 60000,\n",
              " 'loss': 23.196844}"
            ]
          },
          "metadata": {
            "tags": []
          },
          "execution_count": 23
        }
      ]
    },
    {
      "cell_type": "code",
      "metadata": {
        "id": "S5RvVpi3xP0v"
      },
      "source": [
        ""
      ],
      "execution_count": null,
      "outputs": []
    },
    {
      "cell_type": "markdown",
      "metadata": {
        "id": "WP4QaPaFxSjo"
      },
      "source": [
        "## The Third model took 104 seconds for build time and 0.98 for training accuracy with 0.95 seconds for testing accuracy."
      ]
    },
    {
      "cell_type": "markdown",
      "metadata": {
        "id": "Fb14bxHmy5tK"
      },
      "source": [
        "# Assignment 6d"
      ]
    },
    {
      "cell_type": "markdown",
      "metadata": {
        "id": "4Rcb-0cZ0pco"
      },
      "source": [
        "# The fourth model with 5 layers with mixed Neurons for each layer."
      ]
    },
    {
      "cell_type": "code",
      "metadata": {
        "colab": {
          "base_uri": "https://localhost:8080/"
        },
        "id": "qL7gcNYt03IS",
        "outputId": "d06bd736-5737-4c77-a311-26f6db593571"
      },
      "source": [
        "%%time\n",
        "\n",
        "feature_cols = [tf.feature_column.numeric_column(\"X\", shape=[28 * 28])]\n",
        "\n",
        "dnn_clf_5b = tf.compat.v1.estimator.DNNClassifier(hidden_units=[300,200,100,50,25], n_classes=10,feature_columns=feature_cols)\n",
        "\n",
        "input_fn_5b = tf.compat.v1.estimator.inputs.numpy_input_fn(x={\"X\": X_train}, y=y_train, num_epochs=50, batch_size=50, shuffle=True)\n",
        "\n",
        "dnn_clf_5b.train(input_fn=input_fn_5b)"
      ],
      "execution_count": 24,
      "outputs": [
        {
          "output_type": "stream",
          "text": [
            "CPU times: user 7min 25s, sys: 25.2 s, total: 7min 50s\n",
            "Wall time: 5min 13s\n"
          ],
          "name": "stdout"
        }
      ]
    },
    {
      "cell_type": "code",
      "metadata": {
        "colab": {
          "base_uri": "https://localhost:8080/"
        },
        "id": "sonZed_508jl",
        "outputId": "1f3aa365-1d8c-4b1d-a45c-7b76a0a0f090"
      },
      "source": [
        "train_5b_input_fn = tf.compat.v1.estimator.inputs.numpy_input_fn(x={\"X\": X_train}, y=y_train, shuffle=False)\n",
        "eval_results_train_5b = dnn_clf_5b.evaluate(input_fn=train_5b_input_fn)\n",
        "eval_results_train_5b"
      ],
      "execution_count": 25,
      "outputs": [
        {
          "output_type": "execute_result",
          "data": {
            "text/plain": [
              "{'accuracy': 1.0,\n",
              " 'average_loss': 3.8022543e-05,\n",
              " 'global_step': 60000,\n",
              " 'loss': 0.0048642913}"
            ]
          },
          "metadata": {
            "tags": []
          },
          "execution_count": 25
        }
      ]
    },
    {
      "cell_type": "code",
      "metadata": {
        "colab": {
          "base_uri": "https://localhost:8080/"
        },
        "id": "Pn4EdnBN2fmh",
        "outputId": "613e565d-a674-4843-c9d7-a1959f3a4039"
      },
      "source": [
        "test_5b_input_fn = tf.compat.v1.estimator.inputs.numpy_input_fn(x={\"X\": X_test}, y=y_test, shuffle=False)\n",
        "eval_results_test_5b = dnn_clf_5b.evaluate(input_fn=test_5b_input_fn)\n",
        "eval_results_test_5b"
      ],
      "execution_count": 26,
      "outputs": [
        {
          "output_type": "execute_result",
          "data": {
            "text/plain": [
              "{'accuracy': 0.9762,\n",
              " 'average_loss': 0.21508543,\n",
              " 'global_step': 60000,\n",
              " 'loss': 27.226004}"
            ]
          },
          "metadata": {
            "tags": []
          },
          "execution_count": 26
        }
      ]
    },
    {
      "cell_type": "markdown",
      "metadata": {
        "id": "uNprZYuZ2_ts"
      },
      "source": [
        "## The fourth model took 313 seconds for build time and 1.0 training accuracy with 0.98 testing accuracy."
      ]
    },
    {
      "cell_type": "markdown",
      "metadata": {
        "id": "S-GOuWKx74pS"
      },
      "source": [
        "# The conclusion is the fourth model because the accuracy is the highest at the expense of time.  More layers from 2 to 5 improve accuracy with more time."
      ]
    },
    {
      "cell_type": "code",
      "metadata": {
        "id": "As0LrAIg8lWI"
      },
      "source": [
        ""
      ],
      "execution_count": null,
      "outputs": []
    }
  ]
}